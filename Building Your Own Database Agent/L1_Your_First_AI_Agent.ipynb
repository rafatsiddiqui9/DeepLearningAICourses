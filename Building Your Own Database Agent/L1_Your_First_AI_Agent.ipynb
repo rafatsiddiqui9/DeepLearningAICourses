{
  "cells": [
    {
      "cell_type": "markdown",
      "metadata": {
        "colab_type": "text",
        "id": "view-in-github"
      },
      "source": [
        "<a href=\"https://colab.research.google.com/github/rafatsiddiqui9/DeepLearningAICourses/blob/main/L1_Your_First_AI_Agent.ipynb\" target=\"_parent\"><img src=\"https://colab.research.google.com/assets/colab-badge.svg\" alt=\"Open In Colab\"/></a>"
      ]
    },
    {
      "cell_type": "markdown",
      "id": "2df80339",
      "metadata": {
        "id": "2df80339"
      },
      "source": [
        "# Lesson 1: Your First AI Agent\n",
        "\n",
        "Welcome to Lesson 1.\n",
        "\n",
        "To access the `requirements.txt` file, please go to the `File` menu and select`Open...`.\n",
        "\n",
        "I hope you enjoy this course!"
      ]
    },
    {
      "cell_type": "markdown",
      "id": "bfdcabc1",
      "metadata": {
        "id": "bfdcabc1"
      },
      "source": [
        "## Setup"
      ]
    },
    {
      "cell_type": "code",
      "execution_count": null,
      "id": "4oRpJ1dVGKGN",
      "metadata": {
        "colab": {
          "base_uri": "https://localhost:8080/"
        },
        "id": "4oRpJ1dVGKGN",
        "outputId": "9d8c1131-082f-4cc6-d7ca-64ff0322f152"
      },
      "outputs": [],
      "source": [
        "!pip install -q pyodbc==5.1.0 tabulate==0.9.0 openai==1.12.0 langchain==0.1.6 langchain-community==0.0.20 langchain-core==0.1.23 langchain-experimental==0.0.49 langchain-openai==0.0.5 pandas==2.2.2\n"
      ]
    },
    {
      "cell_type": "code",
      "execution_count": null,
      "id": "e8a67f41-d133-4e91-b54f-80bb3cd9a666",
      "metadata": {
        "height": 64,
        "id": "e8a67f41-d133-4e91-b54f-80bb3cd9a666"
      },
      "outputs": [],
      "source": [
        "import os\n",
        "import pandas as pd\n",
        "from IPython.display import Markdown, HTML, display"
      ]
    },
    {
      "cell_type": "markdown",
      "id": "f4c6e550",
      "metadata": {
        "id": "f4c6e550"
      },
      "source": [
        "## Connect to the Azure OpenAI endpoint\n",
        "\n",
        "**Note**: The pre-configured cloud resource grants you access to the Azure OpenAI GPT model. The key and endpoint provided below are intended for teaching purposes only. Your notebook environment is already set up with the necessary keys, which may differ from those used by the instructor during the filming."
      ]
    },
    {
      "cell_type": "markdown",
      "id": "56216e12",
      "metadata": {
        "id": "56216e12"
      },
      "source": [
        "```\n",
        "openai_api_version=\"2023-05-15\"\n",
        "azure_deployment=\"gpt-4-1106\"\n",
        "azure_endpoint=\"https://testadri.openai.azure.com\"\n",
        "\n",
        "```"
      ]
    },
    {
      "cell_type": "code",
      "execution_count": 5,
      "id": "RZbbhm6KL4Ag",
      "metadata": {
        "id": "RZbbhm6KL4Ag"
      },
      "outputs": [],
      "source": [
        "import os\n",
        "\n",
        "env_vars = {\n",
        "    \"AWS_EXECUTION_ENV\": \"AWS_ECS_EC2\",\n",
        "    \"AWS_CONTAINER_CREDENTIALS_RELATIVE_URI\": \"/v2/credentials/8515053c-3ac7-423f-aa66-af15191b8fc7\",\n",
        "    \"HOSTNAME\": \"ip-172-30-118-249.us-west-1.compute.internal\",\n",
        "    \"PYTHON_VERSION\": \"3.11.9\",\n",
        "    \"PWD\": \"/\",\n",
        "    \"ECS_CONTAINER_METADATA_URI_V4\": \"http://169.254.170.2/v4/02583029-da25-4eea-8d1a-a6ebe79ffed2\",\n",
        "    \"JUPYTER_TOKEN\": \"2SMPmxgjoKNYhGSJmZZw6KM0snWvYqeO53HcwTh_QAIMolni91GMCykbkDAsZMgJ\",\n",
        "    \"AZURE_OPENAI_API_KEY\": \"\",\n",
        "    \"PYTHON_SETUPTOOLS_VERSION\": \"65.5.1\",\n",
        "    \"HOME\": \"/home/jovyan\",\n",
        "    \"LANG\": \"C.UTF-8\",\n",
        "    \"GPG_KEY\": \"A035C8C19219BA821ECEA86B64E628F8D684696D\",\n",
        "    \"ECS_AGENT_URI\": \"http://169.254.170.2/api/02583029-da25-4eea-8d1a-a6ebe79ffed2\",\n",
        "    \"ECS_CONTAINER_METADATA_URI\": \"http://169.254.170.2/v3/02583029-da25-4eea-8d1a-a6ebe79ffed2\",\n",
        "    \"SHLVL\": \"0\",\n",
        "    \"PYTHON_PIP_VERSION\": \"24.0\",\n",
        "    \"PYTHON_GET_PIP_SHA256\": \"dfe9fd5c28dc98b5ac17979a953ea550cec37ae1b47a5116007395bfacff2ab9\",\n",
        "    \"PYTHON_GET_PIP_URL\": \"https://github.com/pypa/get-pip/raw/dbf0c85f76fb6e1ab42aa672ffca6f0a675d9ee4/public/get-pip.py\",\n",
        "    \"PATH\": \"/usr/local/bin:/usr/local/sbin:/usr/local/bin:/usr/sbin:/usr/bin:/sbin:/bin\",\n",
        "    \"AZURE_OPENAI_ENDPOINT\": \"http://jupyter-api-proxy.internal.dlai/rev-proxy/microsoft_azure_openai\",\n",
        "    \"_\": \"/usr/local/bin/jupyter\",\n",
        "    \"JPY_PARENT_PID\": \"1\",\n",
        "    \"PYDEVD_USE_FRAME_EVAL\": \"NO\",\n",
        "    \"TERM\": \"xterm-color\",\n",
        "    \"CLICOLOR\": \"1\",\n",
        "    \"FORCE_COLOR\": \"1\",\n",
        "    \"CLICOLOR_FORCE\": \"1\",\n",
        "    \"PAGER\": \"cat\",\n",
        "    \"GIT_PAGER\": \"cat\",\n",
        "    \"MPLBACKEND\": \"module://matplotlib_inline.backend_inline\",\n",
        "    \"path\": \";\",\n",
        "    \"ENSUREPIP_OPTIONS\": \"install\",\n",
        "    \"QT_API\": \"pyqt6\",\n",
        "    \"FOO\": \"test\",\n",
        "    \"SINGLESTOREDB_URL\": \"me:p455w0rd@s2-host.com/my_db\",\n",
        "    \"DASHSCOPE_API_KEY\": \"your DashScope API KEY\",\n",
        "    \"OPENAI_API_TYPE\": \"azure\",\n",
        "    \"OPENAI_API_BASE\": \"https://<your-endpoint.openai.azure.com/\",\n",
        "    \"OPENAI_API_KEY\": \"your AzureOpenAI key\",\n",
        "    \"OPENAI_API_VERSION\": \"2023-05-15\",\n",
        "    \"OPENAI_PROXY\": \"http://your-corporate-proxy:8080\",\n",
        "    \"AVIARY_URL\": \"<URL>\",\n",
        "    \"AVIARY_TOKEN\": \"<TOKEN>\",\n",
        "    \"_LANGSMITH_IMAGE_PREFIX\": \"rc-\",\n",
        "    \"NUMPY_EXPERIMENTAL_DTYPE_API\": \"1\",\n",
        "    \"BBB\": \"Hi\",\n",
        "    \"PIP_NO_INPUT\": \"1\",\n",
        "    \"PIP_EXISTS_ACTION\": \" \",\n",
        "    \"_PIP_RUNNING_IN_SUBPROCESS\": \"1\",\n",
        "    \"PYCHARM_HOSTED\": \"1\",\n",
        "    \"TESTAPP_STARTED\": \"1\",\n",
        "    \"_ARGCOMPLETE\": \"1\",\n",
        "    \"_ARC_DEBUG\": \"yes\",\n",
        "    \"no_proxy\": \"127.0.0.0/8, 192.168.0.0/16\",\n",
        "    \"http_proxy\": \"http://a:b@localhost:3128/\",\n",
        "    \"https_proxy\": \"http://a:b@localhost2:3128/\"\n",
        "}\n",
        "\n",
        "# To load these variables into your environment, you can use:\n",
        "for key, value in env_vars.items():\n",
        "    os.environ[key] = value\n",
        "\n",
        "# To verify a specific variable, you can use:\n",
        "# print(os.environ.get('VARIABLE_NAME'))\n",
        "\n",
        "# For example:\n",
        "# print(os.environ.get('AZURE_OPENAI_API_KEY'))"
      ]
    },
    {
      "cell_type": "markdown",
      "id": "178321d6",
      "metadata": {
        "id": "178321d6"
      },
      "source": [
        "## 1. Leveraging Langchain"
      ]
    },
    {
      "cell_type": "code",
      "execution_count": null,
      "id": "c5e4be2b",
      "metadata": {
        "colab": {
          "base_uri": "https://localhost:8080/",
          "height": 410
        },
        "height": 149,
        "id": "c5e4be2b",
        "outputId": "91e19ffb-e5ae-492f-ddf2-5f8b0188a565"
      },
      "outputs": [],
      "source": [
        "from langchain.schema import HumanMessage\n",
        "from langchain_openai import AzureChatOpenAI\n",
        "\n",
        "model = AzureChatOpenAI(\n",
        "    openai_api_version=\"2024-04-01-preview\",\n",
        "    azure_deployment=\"gpt-4-1106\",\n",
        "    azure_endpoint=os.getenv(\"AZURE_OPENAI_ENDPOINT\"),\n",
        ")"
      ]
    },
    {
      "cell_type": "markdown",
      "id": "9fde1292",
      "metadata": {
        "id": "9fde1292"
      },
      "source": [
        "## 2. Preparing your prompt"
      ]
    },
    {
      "cell_type": "code",
      "execution_count": null,
      "id": "0d145d0d-30f2-412b-822c-e23ff9bf2bc4",
      "metadata": {
        "height": 98,
        "id": "0d145d0d-30f2-412b-822c-e23ff9bf2bc4"
      },
      "outputs": [],
      "source": [
        "message = HumanMessage(\n",
        "    content=\"Translate this sentence from English \"\n",
        "    \"to French and Spanish. I like red cars and \"\n",
        "    \"blue houses, but my dog is yellow.\"\n",
        ")"
      ]
    },
    {
      "cell_type": "markdown",
      "id": "94f5e7b6",
      "metadata": {
        "id": "94f5e7b6"
      },
      "source": [
        "## 3. Engaging the model to receive a response"
      ]
    },
    {
      "cell_type": "code",
      "execution_count": null,
      "id": "e49e3b6d-71e8-4906-bf9c-fca78c1fbd4c",
      "metadata": {
        "height": 30,
        "id": "e49e3b6d-71e8-4906-bf9c-fca78c1fbd4c"
      },
      "outputs": [],
      "source": [
        "model.invoke([message])"
      ]
    }
  ],
  "metadata": {
    "colab": {
      "include_colab_link": true,
      "provenance": []
    },
    "kernelspec": {
      "display_name": "Python 3",
      "language": "python",
      "name": "python3"
    },
    "language_info": {
      "codemirror_mode": {
        "name": "ipython",
        "version": 3
      },
      "file_extension": ".py",
      "mimetype": "text/x-python",
      "name": "python",
      "nbconvert_exporter": "python",
      "pygments_lexer": "ipython3",
      "version": "3.10.12"
    }
  },
  "nbformat": 4,
  "nbformat_minor": 5
}
