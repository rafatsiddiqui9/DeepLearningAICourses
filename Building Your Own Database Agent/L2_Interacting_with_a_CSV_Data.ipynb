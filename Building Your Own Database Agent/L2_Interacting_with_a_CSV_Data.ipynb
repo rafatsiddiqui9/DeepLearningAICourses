{
 "cells": [
  {
   "cell_type": "markdown",
   "id": "d792f35b",
   "metadata": {},
   "source": [
    "# Lesson 2: Interacting with a CSV Data"
   ]
  },
  {
   "cell_type": "markdown",
   "id": "6be6d049",
   "metadata": {},
   "source": [
    "## Setup and connect to the Azure OpenAI endpoint"
   ]
  },
  {
   "cell_type": "markdown",
   "id": "399c89a2",
   "metadata": {},
   "source": [
    "**Note**: The pre-configured cloud resource grants you access to the Azure OpenAI GPT model. The key and endpoint provided below are intended for teaching purposes only. Your notebook environment is already set up with the necessary keys, which may differ from those used by the instructor during the filming."
   ]
  },
  {
   "cell_type": "code",
   "execution_count": 4,
   "id": "83ac3e59-d0d1-4110-a059-3a55d0d5e15e",
   "metadata": {
    "height": 217
   },
   "outputs": [],
   "source": [
    "import os \n",
    "import pandas as pd\n",
    "\n",
    "from IPython.display import Markdown, HTML, display\n",
    "from langchain.schema import HumanMessage\n",
    "from langchain_openai import AzureChatOpenAI\n",
    "\n",
    "model = AzureChatOpenAI(\n",
    "    openai_api_version=\"2023-05-15\",\n",
    "    azure_deployment=\"gpt-4-1106\",\n",
    "    azure_endpoint=os.getenv(\"AZURE_OPENAI_ENDPOINT\"),\n",
    ")"
   ]
  },
  {
   "cell_type": "markdown",
   "id": "ba9075a3",
   "metadata": {},
   "source": [
    "## Load the dataset"
   ]
  },
  {
   "cell_type": "markdown",
   "id": "fb0dc855",
   "metadata": {},
   "source": [
    "**Note**: To access the data locally, use the following code:\n",
    "\n",
    "```\n",
    "os.makedirs(\"data\",exist_ok=True)\n",
    "!wget https://covidtracking.com/data/download/all-states-history.csv -P ./data/\n",
    "file_url = \"./data/all-states-history.csv\"\n",
    "df = pd.read_csv(file_url).fillna(value = 0)\n",
    "```"
   ]
  },
  {
   "cell_type": "code",
   "execution_count": 5,
   "id": "b6c75799-55e2-4d39-a1ab-7b968b4f35a4",
   "metadata": {
    "height": 30
   },
   "outputs": [],
   "source": [
    "df = pd.read_csv(\"./data/all-states-history.csv\").fillna(value = 0)"
   ]
  },
  {
   "cell_type": "markdown",
   "id": "a6a261ac",
   "metadata": {},
   "source": [
    "## Prepare the Langchain dataframe agent"
   ]
  },
  {
   "cell_type": "code",
   "execution_count": 6,
   "id": "60d0793b-90e7-4e8b-b2f1-66a8d1cf652d",
   "metadata": {
    "height": 115
   },
   "outputs": [
    {
     "name": "stdout",
     "output_type": "stream",
     "text": [
      "\n",
      "\n",
      "\u001b[1m> Entering new AgentExecutor chain...\u001b[0m\n",
      "\u001b[32;1m\u001b[1;3mThought: To determine the number of rows in the pandas DataFrame `df`, I can use the `shape` attribute, which returns a tuple in the format (number of rows, number of columns).\n",
      "\n",
      "Action: python_repl_ast\n",
      "Action Input: df.shape\u001b[0m\n",
      "Observation: \u001b[36;1m\u001b[1;3m(20780, 41)\u001b[0m\n",
      "Thought:\u001b[32;1m\u001b[1;3mI now know the final answer\n",
      "Final Answer: There are 20,780 rows in the dataframe `df`.\u001b[0m\n",
      "\n",
      "\u001b[1m> Finished chain.\u001b[0m\n"
     ]
    },
    {
     "data": {
      "text/plain": [
       "{'input': 'how many rows are there?',\n",
       " 'output': 'There are 20,780 rows in the dataframe `df`.'}"
      ]
     },
     "execution_count": 6,
     "metadata": {},
     "output_type": "execute_result"
    }
   ],
   "source": [
    "from langchain.agents.agent_types import AgentType\n",
    "from langchain_experimental.agents.agent_toolkits import create_pandas_dataframe_agent\n",
    "\n",
    "agent = create_pandas_dataframe_agent(llm=model,df=df,verbose=True)\n",
    "\n",
    "agent.invoke(\"how many rows are there?\")"
   ]
  },
  {
   "cell_type": "markdown",
   "id": "7c6dedce",
   "metadata": {},
   "source": [
    "## Design your prompt and ask your question"
   ]
  },
  {
   "cell_type": "code",
   "execution_count": 9,
   "id": "0d005008-bad6-4458-90ec-6372d9ebe61c",
   "metadata": {
    "height": 523
   },
   "outputs": [
    {
     "name": "stdout",
     "output_type": "stream",
     "text": [
      "\n",
      "\n",
      "\u001b[1m> Entering new AgentExecutor chain...\u001b[0m\n",
      "\u001b[32;1m\u001b[1;3mThought: Before I can answer the question, I need to set pandas display options to show all the columns and then retrieve the column names.\n",
      "Action: I will start by setting the display options using pandas.\n",
      "Action Input: pd.set_option('display.max_columns', None)\u001b[0m\n",
      "Observation: I will start by setting the display options using pandas. is not a valid tool, try one of [python_repl_ast].\n",
      "Thought:\u001b[32;1m\u001b[1;3mI need to use the Python shell to execute the command to set pandas display options.\n",
      "Action: python_repl_ast\n",
      "Action Input: pd.set_option('display.max_columns', None)\u001b[0m\n",
      "Observation: \u001b[36;1m\u001b[1;3m\u001b[0m\n",
      "Thought:\u001b[32;1m\u001b[1;3mThe pandas display option to show all columns has been set. Now I should get the column names of the dataframe `df`.\n",
      "Action: python_repl_ast\n",
      "Action Input: df.columns.tolist()\u001b[0m\n",
      "Observation: \u001b[36;1m\u001b[1;3m['date', 'state', 'death', 'deathConfirmed', 'deathIncrease', 'deathProbable', 'hospitalized', 'hospitalizedCumulative', 'hospitalizedCurrently', 'hospitalizedIncrease', 'inIcuCumulative', 'inIcuCurrently', 'negative', 'negativeIncrease', 'negativeTestsAntibody', 'negativeTestsPeopleAntibody', 'negativeTestsViral', 'onVentilatorCumulative', 'onVentilatorCurrently', 'positive', 'positiveCasesViral', 'positiveIncrease', 'positiveScore', 'positiveTestsAntibody', 'positiveTestsAntigen', 'positiveTestsPeopleAntibody', 'positiveTestsPeopleAntigen', 'positiveTestsViral', 'recovered', 'totalTestEncountersViral', 'totalTestEncountersViralIncrease', 'totalTestResults', 'totalTestResultsIncrease', 'totalTestsAntibody', 'totalTestsAntigen', 'totalTestsPeopleAntibody', 'totalTestsPeopleAntigen', 'totalTestsPeopleViral', 'totalTestsPeopleViralIncrease', 'totalTestsViral', 'totalTestsViralIncrease']\u001b[0m\n",
      "Thought:\u001b[32;1m\u001b[1;3mI have retrieved the column names and identified that the 'hospitalizedCumulative' column could be used to determine the cumulative number of hospitalizations. To find out how many patients were hospitalized during July 2020, I would need to find the data entries for July 2020 and sum up the 'hospitalizedIncrease' column, as it seems to represent the daily increase in hospitalizations.\n",
      "\n",
      "Action: python_repl_ast\n",
      "Action Input: df['date'] = pd.to_datetime(df['date']) # Convert 'date' column to datetime\n",
      "df_july_2020 = df[(df['date'] >= '2020-07-01') & (df['date'] <= '2020-07-31')] # Filter data for July 2020\n",
      "hospitalized_july_2020 = df_july_2020['hospitalizedIncrease'].sum() # Sum of 'hospitalizedIncrease' for July 2020\n",
      "hospitalized_july_2020\u001b[0m\n",
      "Observation: \u001b[36;1m\u001b[1;3m63105\u001b[0m\n",
      "Thought:\u001b[32;1m\u001b[1;3mI have calculated the sum of 'hospitalizedIncrease' for July 2020 and got the result as 63105. Now, to ensure the accuracy of my answer, I need to try another method and compare the results.\n",
      "\n",
      "Thought: Another method to verify the result is to calculate the difference between the 'hospitalizedCumulative' at the end of July 2020 and the 'hospitalizedCumulative' at the end of June 2020. This should give us the number of hospitalizations during July 2020.\n",
      "\n",
      "Action: python_repl_ast\n",
      "Action Input: end_of_july_hospitalized = df[df['date'] == '2020-07-31']['hospitalizedCumulative'].sum()\n",
      "end_of_june_hospitalized = df[df['date'] == '2020-06-30']['hospitalizedCumulative'].sum()\n",
      "hospitalized_july_2020_check = end_of_july_hospitalized - end_of_june_hospitalized\n",
      "hospitalized_july_2020_check\u001b[0m\n",
      "Observation: \u001b[36;1m\u001b[1;3m63105.0\u001b[0m\n",
      "Thought:\u001b[32;1m\u001b[1;3mThe second method has confirmed the result of the first method, as both methods yielded 63105 as the number of patients hospitalized during July 2020. I am confident in the answer now.\n",
      "\n",
      "Final Answer:\n",
      "\n",
      "The number of patients hospitalized during July 2020 was 63,105.\n",
      "\n",
      "Explanation:\n",
      "\n",
      "To find the number of patients hospitalized during July 2020, I used two methods:\n",
      "\n",
      "1. I summed up the 'hospitalizedIncrease' column for the dates within July 2020. This column represents the daily increase in hospitalizations.\n",
      "\n",
      "2. As a verification, I calculated the difference between the 'hospitalizedCumulative' at the end of July 2020 and the 'hospitalizedCumulative' at the end of June 2020. This gives the cumulative increase in hospitalizations over the month of July 2020.\n",
      "\n",
      "Both methods resulted in the same value, confirming the total number of hospitalizations for July 2020 as 63,105.\u001b[0m\n",
      "\n",
      "\u001b[1m> Finished chain.\u001b[0m\n"
     ]
    },
    {
     "data": {
      "text/plain": [
       "{'input': '\\nFirst set the pandas display options to show all the columns,\\nget the column names, then answer the question.\\nHow may patients were hospitalized during July 2020\\n- **ALWAYS** before giving the Final Answer, try another method.\\nThen reflect on the answers of the two methods you did and ask yourself\\nif it answers correctly the original question.\\nIf you are not sure, try another method.\\n- If the methods tried do not give the same result,reflect and\\ntry again until you have two methods that have the same result.\\n- If you still cannot arrive to a consistent result, say that\\nyou are not sure of the answer.\\n- If you are sure of the correct answer, create a beautiful\\nand thorough response using Markdown.\\n- **DO NOT MAKE UP AN ANSWER OR USE PRIOR KNOWLEDGE,\\nONLY USE THE RESULTS OF THE CALCULATIONS YOU HAVE DONE**.\\n- **ALWAYS**, as part of your \"Final Answer\", explain how you got\\nto the answer on a section that starts with: \"\\n\\nExplanation:\\n\".\\nIn the explanation, mention the column names that you used to get\\nto the final answer.\\n',\n",
       " 'output': \"The number of patients hospitalized during July 2020 was 63,105.\\n\\nExplanation:\\n\\nTo find the number of patients hospitalized during July 2020, I used two methods:\\n\\n1. I summed up the 'hospitalizedIncrease' column for the dates within July 2020. This column represents the daily increase in hospitalizations.\\n\\n2. As a verification, I calculated the difference between the 'hospitalizedCumulative' at the end of July 2020 and the 'hospitalizedCumulative' at the end of June 2020. This gives the cumulative increase in hospitalizations over the month of July 2020.\\n\\nBoth methods resulted in the same value, confirming the total number of hospitalizations for July 2020 as 63,105.\"}"
      ]
     },
     "execution_count": 9,
     "metadata": {},
     "output_type": "execute_result"
    }
   ],
   "source": [
    "CSV_PROMPT_PREFIX = \"\"\"\n",
    "First set the pandas display options to show all the columns,\n",
    "get the column names, then answer the question.\n",
    "\"\"\"\n",
    "\n",
    "CSV_PROMPT_SUFFIX = \"\"\"\n",
    "- **ALWAYS** before giving the Final Answer, try another method.\n",
    "Then reflect on the answers of the two methods you did and ask yourself\n",
    "if it answers correctly the original question.\n",
    "If you are not sure, try another method.\n",
    "- If the methods tried do not give the same result,reflect and\n",
    "try again until you have two methods that have the same result.\n",
    "- If you still cannot arrive to a consistent result, say that\n",
    "you are not sure of the answer.\n",
    "- If you are sure of the correct answer, create a beautiful\n",
    "and thorough response using Markdown.\n",
    "- **DO NOT MAKE UP AN ANSWER OR USE PRIOR KNOWLEDGE,\n",
    "ONLY USE THE RESULTS OF THE CALCULATIONS YOU HAVE DONE**.\n",
    "- **ALWAYS**, as part of your \"Final Answer\", explain how you got\n",
    "to the answer on a section that starts with: \"\\n\\nExplanation:\\n\".\n",
    "In the explanation, mention the column names that you used to get\n",
    "to the final answer.\n",
    "\"\"\"\n",
    "\n",
    "QUESTION = \"How may patients were hospitalized during July 2020\" \n",
    "\"in Texas, and nationwide as the total of all states?\"\n",
    "\"Use the hospitalizedIncrease column\" \n",
    "\n",
    "\n",
    "agent.invoke(CSV_PROMPT_PREFIX + QUESTION + CSV_PROMPT_SUFFIX)"
   ]
  }
 ],
 "metadata": {
  "kernelspec": {
   "display_name": "Python 3 (ipykernel)",
   "language": "python",
   "name": "python3"
  },
  "language_info": {
   "codemirror_mode": {
    "name": "ipython",
    "version": 3
   },
   "file_extension": ".py",
   "mimetype": "text/x-python",
   "name": "python",
   "nbconvert_exporter": "python",
   "pygments_lexer": "ipython3",
   "version": "3.11.9"
  }
 },
 "nbformat": 4,
 "nbformat_minor": 5
}
